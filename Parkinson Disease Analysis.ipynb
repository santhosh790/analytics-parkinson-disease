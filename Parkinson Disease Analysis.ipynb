{
 "cells": [
  {
   "cell_type": "markdown",
   "metadata": {},
   "source": [
    "# Analysis of Parkinson Disease "
   ]
  },
  {
   "cell_type": "markdown",
   "metadata": {},
   "source": [
    "## UCI Machine learning repository - Parkinson's Disease Classification Data Set \n",
    "### Source:  https://archive.ics.uci.edu/ml/machine-learning-databases/00470/"
   ]
  },
  {
   "cell_type": "markdown",
   "metadata": {},
   "source": [
    "## Introduction\n",
    "\n",
    "Parkinson disease affects the nervous system of human being and creates a movement disorder. It gradually start in the system and gets worser over time. People with this disease find it very difficult to balance themselves while walking or talking. This occurs due to the drop in dopamine level in human brain. Early symptoms for this disease are tremor in hands or fingers, slowed movement and the changes in voice and writing. \n",
    "\n",
    "Diagonising this disease earlier stages is imperative to control or cure. Occurance of one or more symptoms can be confirmed to be affected by parkinson. But, there are other similar diseases also. So, proper physician diagonis is important."
   ]
  },
  {
   "cell_type": "markdown",
   "metadata": {},
   "source": [
    "## Source data collection details"
   ]
  },
  {
   "cell_type": "markdown",
   "metadata": {},
   "source": [
    "###### Collection Source: Physician's Examination using phonation.\n",
    "###### Data Extraction: Phonation of vowel /a/ using the microphone at 44.1 KHz\n",
    "##### Attribute Extraction methods: Various speech signal processing algorithms including Time Frequency Features, Mel Frequency Cepstral Coefficients (MFCCs), Wavelet Transform based Features, Vocal Fold Features and TWQT features have been applied to the speech recordings of Parkinson's Disease (PD) patients to extract clinically useful information for PD assessment. (from dataset source)\n"
   ]
  },
  {
   "cell_type": "markdown",
   "metadata": {},
   "source": [
    "## Details of the extracted dataset"
   ]
  },
  {
   "cell_type": "markdown",
   "metadata": {},
   "source": [
    "- ###### Number of Instances (rows): 756\n",
    "- ###### Number of Attributes (columns or features): 754\n",
    "- ###### Number of unique people tested: 252 [3 voice records per individual]\n",
    "- ###### Number of parkinson patients: 188 [107 Men, 81 Women]\n",
    "- ###### Number of normal people: 64 [41 Men, 23 Women]\n",
    "\n",
    "Age is not mentioned in the dataset. But, the dataset source mentioned PD patients ages ranging from 33 to 87 and normal people ages ranging from 41 to 82. "
   ]
  },
  {
   "cell_type": "markdown",
   "metadata": {},
   "source": [
    "##### Target variable\n",
    "- class: 0 (Disease negative), 1 (Disease positive)"
   ]
  },
  {
   "cell_type": "markdown",
   "metadata": {},
   "source": [
    "## Data Exploration and Analytics"
   ]
  },
  {
   "cell_type": "markdown",
   "metadata": {},
   "source": [
    "1. Exploring data\n",
    "2. Person based exploration\n",
    "3. Correlation of independent variables on target variable\n",
    "4. Linear Regression model\n",
    "5. ROC-AUC Curve"
   ]
  },
  {
   "cell_type": "markdown",
   "metadata": {},
   "source": [
    "### Research works using this dataset\n",
    "\n",
    "Dataset Source work:\n",
    "Sakar, C. Okan, et al. \"A comparative analysis of speech signal processing algorithms for Parkinson’s disease classification and the use of the tunable Q-factor wavelet transform.\" Applied Soft Computing 74 (2019): 255-263.\n",
    "\n",
    "Works used this dataset:\n",
    "\n",
    "Gunduz, Hakan. \"Deep Learning-Based Parkinson’s Disease Classification Using Vocal Feature Sets.\" IEEE Access 7 (2019): 115540-115551.\n",
    "\n",
    "Tuncer, Turker, Sengul Dogan, and U. Rajendra Acharya. \"Automated detection of Parkinson's disease using minimum average maximum tree and singular value decomposition method with vowels.\" Biocybernetics and Biomedical Engineering (2019).\n",
    "\n",
    "\n"
   ]
  },
  {
   "cell_type": "markdown",
   "metadata": {},
   "source": [
    "#### Importance of voice analysis:\n",
    "Voice analysis is a common approach to identify the Parkinson's Disease. After affected by the disease, people will be shown symptoms in many forms like tremor in hands/fingers, changes in writing and voice changes. But vocal test is important because 78% of early Parkinson's disease patients show some sort of vocal disorder[1]. So, it is easy to identify the disease in it's early stages using voice analysis.\n",
    "\n",
    "\n",
    "[1] Rusz J, Cmejla R, Ruzickova H, Ruzicka E. Quantitative acoustic measurements for characterization of speech and voice disorders in early untreated Parkinson’s disease. The journal of the Acoustical Society of America. 2011 Jan;129(1):350–67.J. Acoust. Soc. Am., 129 (1) (2011), pp. 350–367 pmid:21303016"
   ]
  },
  {
   "cell_type": "markdown",
   "metadata": {},
   "source": [
    "#### Nature of Task: **Classification** \n",
    "\n",
    "#### RESULT: Minimum number of features required to explain Parkinson Disease with 70% ROC - AUC : 2 (DFA and RPDE)"
   ]
  },
  {
   "cell_type": "markdown",
   "metadata": {},
   "source": [
    "### Exploration data analysis"
   ]
  },
  {
   "cell_type": "code",
   "execution_count": 2,
   "metadata": {
    "collapsed": false
   },
   "outputs": [],
   "source": [
    "#importing the packages\n",
    "import pandas as pd\n",
    "import numpy as np\n",
    "import matplotlib.pyplot as plt\n",
    "import seaborn as sns"
   ]
  },
  {
   "cell_type": "code",
   "execution_count": 3,
   "metadata": {
    "collapsed": false
   },
   "outputs": [],
   "source": [
    "df = pd.read_csv(\"D:/Study/csir-courselist/firstwork/pd_speech_features/pd_speech_features.csv\", skiprows=1)"
   ]
  },
  {
   "cell_type": "code",
   "execution_count": 3,
   "metadata": {
    "collapsed": false
   },
   "outputs": [
    {
     "data": {
      "text/html": [
       "<div>\n",
       "<style>\n",
       "    .dataframe thead tr:only-child th {\n",
       "        text-align: right;\n",
       "    }\n",
       "\n",
       "    .dataframe thead th {\n",
       "        text-align: left;\n",
       "    }\n",
       "\n",
       "    .dataframe tbody tr th {\n",
       "        vertical-align: top;\n",
       "    }\n",
       "</style>\n",
       "<table border=\"1\" class=\"dataframe\">\n",
       "  <thead>\n",
       "    <tr style=\"text-align: right;\">\n",
       "      <th></th>\n",
       "      <th>id</th>\n",
       "      <th>gender</th>\n",
       "      <th>PPE</th>\n",
       "      <th>DFA</th>\n",
       "      <th>RPDE</th>\n",
       "      <th>numPulses</th>\n",
       "      <th>numPeriodsPulses</th>\n",
       "      <th>meanPeriodPulses</th>\n",
       "      <th>stdDevPeriodPulses</th>\n",
       "      <th>locPctJitter</th>\n",
       "      <th>...</th>\n",
       "      <th>tqwt_kurtosisValue_dec_28</th>\n",
       "      <th>tqwt_kurtosisValue_dec_29</th>\n",
       "      <th>tqwt_kurtosisValue_dec_30</th>\n",
       "      <th>tqwt_kurtosisValue_dec_31</th>\n",
       "      <th>tqwt_kurtosisValue_dec_32</th>\n",
       "      <th>tqwt_kurtosisValue_dec_33</th>\n",
       "      <th>tqwt_kurtosisValue_dec_34</th>\n",
       "      <th>tqwt_kurtosisValue_dec_35</th>\n",
       "      <th>tqwt_kurtosisValue_dec_36</th>\n",
       "      <th>class</th>\n",
       "    </tr>\n",
       "  </thead>\n",
       "  <tbody>\n",
       "    <tr>\n",
       "      <th>0</th>\n",
       "      <td>0</td>\n",
       "      <td>1</td>\n",
       "      <td>0.85247</td>\n",
       "      <td>0.71826</td>\n",
       "      <td>0.57227</td>\n",
       "      <td>240</td>\n",
       "      <td>239</td>\n",
       "      <td>0.008064</td>\n",
       "      <td>0.000087</td>\n",
       "      <td>0.00218</td>\n",
       "      <td>...</td>\n",
       "      <td>1.5620</td>\n",
       "      <td>2.6445</td>\n",
       "      <td>3.8686</td>\n",
       "      <td>4.2105</td>\n",
       "      <td>5.1221</td>\n",
       "      <td>4.4625</td>\n",
       "      <td>2.6202</td>\n",
       "      <td>3.0004</td>\n",
       "      <td>18.9405</td>\n",
       "      <td>1</td>\n",
       "    </tr>\n",
       "    <tr>\n",
       "      <th>1</th>\n",
       "      <td>0</td>\n",
       "      <td>1</td>\n",
       "      <td>0.76686</td>\n",
       "      <td>0.69481</td>\n",
       "      <td>0.53966</td>\n",
       "      <td>234</td>\n",
       "      <td>233</td>\n",
       "      <td>0.008258</td>\n",
       "      <td>0.000073</td>\n",
       "      <td>0.00195</td>\n",
       "      <td>...</td>\n",
       "      <td>1.5589</td>\n",
       "      <td>3.6107</td>\n",
       "      <td>23.5155</td>\n",
       "      <td>14.1962</td>\n",
       "      <td>11.0261</td>\n",
       "      <td>9.5082</td>\n",
       "      <td>6.5245</td>\n",
       "      <td>6.3431</td>\n",
       "      <td>45.1780</td>\n",
       "      <td>1</td>\n",
       "    </tr>\n",
       "    <tr>\n",
       "      <th>2</th>\n",
       "      <td>0</td>\n",
       "      <td>1</td>\n",
       "      <td>0.85083</td>\n",
       "      <td>0.67604</td>\n",
       "      <td>0.58982</td>\n",
       "      <td>232</td>\n",
       "      <td>231</td>\n",
       "      <td>0.008340</td>\n",
       "      <td>0.000060</td>\n",
       "      <td>0.00176</td>\n",
       "      <td>...</td>\n",
       "      <td>1.5643</td>\n",
       "      <td>2.3308</td>\n",
       "      <td>9.4959</td>\n",
       "      <td>10.7458</td>\n",
       "      <td>11.0177</td>\n",
       "      <td>4.8066</td>\n",
       "      <td>2.9199</td>\n",
       "      <td>3.1495</td>\n",
       "      <td>4.7666</td>\n",
       "      <td>1</td>\n",
       "    </tr>\n",
       "    <tr>\n",
       "      <th>3</th>\n",
       "      <td>1</td>\n",
       "      <td>0</td>\n",
       "      <td>0.41121</td>\n",
       "      <td>0.79672</td>\n",
       "      <td>0.59257</td>\n",
       "      <td>178</td>\n",
       "      <td>177</td>\n",
       "      <td>0.010858</td>\n",
       "      <td>0.000183</td>\n",
       "      <td>0.00419</td>\n",
       "      <td>...</td>\n",
       "      <td>3.7805</td>\n",
       "      <td>3.5664</td>\n",
       "      <td>5.2558</td>\n",
       "      <td>14.0403</td>\n",
       "      <td>4.2235</td>\n",
       "      <td>4.6857</td>\n",
       "      <td>4.8460</td>\n",
       "      <td>6.2650</td>\n",
       "      <td>4.0603</td>\n",
       "      <td>1</td>\n",
       "    </tr>\n",
       "    <tr>\n",
       "      <th>4</th>\n",
       "      <td>1</td>\n",
       "      <td>0</td>\n",
       "      <td>0.32790</td>\n",
       "      <td>0.79782</td>\n",
       "      <td>0.53028</td>\n",
       "      <td>236</td>\n",
       "      <td>235</td>\n",
       "      <td>0.008162</td>\n",
       "      <td>0.002669</td>\n",
       "      <td>0.00535</td>\n",
       "      <td>...</td>\n",
       "      <td>6.1727</td>\n",
       "      <td>5.8416</td>\n",
       "      <td>6.0805</td>\n",
       "      <td>5.7621</td>\n",
       "      <td>7.7817</td>\n",
       "      <td>11.6891</td>\n",
       "      <td>8.2103</td>\n",
       "      <td>5.0559</td>\n",
       "      <td>6.1164</td>\n",
       "      <td>1</td>\n",
       "    </tr>\n",
       "  </tbody>\n",
       "</table>\n",
       "<p>5 rows × 755 columns</p>\n",
       "</div>"
      ],
      "text/plain": [
       "   id  gender      PPE      DFA     RPDE  numPulses  numPeriodsPulses  \\\n",
       "0   0       1  0.85247  0.71826  0.57227        240               239   \n",
       "1   0       1  0.76686  0.69481  0.53966        234               233   \n",
       "2   0       1  0.85083  0.67604  0.58982        232               231   \n",
       "3   1       0  0.41121  0.79672  0.59257        178               177   \n",
       "4   1       0  0.32790  0.79782  0.53028        236               235   \n",
       "\n",
       "   meanPeriodPulses  stdDevPeriodPulses  locPctJitter  ...    \\\n",
       "0          0.008064            0.000087       0.00218  ...     \n",
       "1          0.008258            0.000073       0.00195  ...     \n",
       "2          0.008340            0.000060       0.00176  ...     \n",
       "3          0.010858            0.000183       0.00419  ...     \n",
       "4          0.008162            0.002669       0.00535  ...     \n",
       "\n",
       "   tqwt_kurtosisValue_dec_28  tqwt_kurtosisValue_dec_29  \\\n",
       "0                     1.5620                     2.6445   \n",
       "1                     1.5589                     3.6107   \n",
       "2                     1.5643                     2.3308   \n",
       "3                     3.7805                     3.5664   \n",
       "4                     6.1727                     5.8416   \n",
       "\n",
       "   tqwt_kurtosisValue_dec_30  tqwt_kurtosisValue_dec_31  \\\n",
       "0                     3.8686                     4.2105   \n",
       "1                    23.5155                    14.1962   \n",
       "2                     9.4959                    10.7458   \n",
       "3                     5.2558                    14.0403   \n",
       "4                     6.0805                     5.7621   \n",
       "\n",
       "   tqwt_kurtosisValue_dec_32  tqwt_kurtosisValue_dec_33  \\\n",
       "0                     5.1221                     4.4625   \n",
       "1                    11.0261                     9.5082   \n",
       "2                    11.0177                     4.8066   \n",
       "3                     4.2235                     4.6857   \n",
       "4                     7.7817                    11.6891   \n",
       "\n",
       "   tqwt_kurtosisValue_dec_34  tqwt_kurtosisValue_dec_35  \\\n",
       "0                     2.6202                     3.0004   \n",
       "1                     6.5245                     6.3431   \n",
       "2                     2.9199                     3.1495   \n",
       "3                     4.8460                     6.2650   \n",
       "4                     8.2103                     5.0559   \n",
       "\n",
       "   tqwt_kurtosisValue_dec_36  class  \n",
       "0                    18.9405      1  \n",
       "1                    45.1780      1  \n",
       "2                     4.7666      1  \n",
       "3                     4.0603      1  \n",
       "4                     6.1164      1  \n",
       "\n",
       "[5 rows x 755 columns]"
      ]
     },
     "execution_count": 3,
     "metadata": {},
     "output_type": "execute_result"
    }
   ],
   "source": [
    "df.head()"
   ]
  },
  {
   "cell_type": "code",
   "execution_count": 4,
   "metadata": {
    "collapsed": false
   },
   "outputs": [
    {
     "data": {
      "text/plain": [
       "(756, 755)"
      ]
     },
     "execution_count": 4,
     "metadata": {},
     "output_type": "execute_result"
    }
   ],
   "source": [
    "df.shape"
   ]
  },
  {
   "cell_type": "code",
   "execution_count": 5,
   "metadata": {
    "collapsed": false
   },
   "outputs": [
    {
     "data": {
      "text/plain": [
       "Index(['id', 'gender', 'PPE', 'DFA', 'RPDE', 'numPulses', 'numPeriodsPulses',\n",
       "       'meanPeriodPulses', 'stdDevPeriodPulses', 'locPctJitter',\n",
       "       ...\n",
       "       'tqwt_kurtosisValue_dec_28', 'tqwt_kurtosisValue_dec_29',\n",
       "       'tqwt_kurtosisValue_dec_30', 'tqwt_kurtosisValue_dec_31',\n",
       "       'tqwt_kurtosisValue_dec_32', 'tqwt_kurtosisValue_dec_33',\n",
       "       'tqwt_kurtosisValue_dec_34', 'tqwt_kurtosisValue_dec_35',\n",
       "       'tqwt_kurtosisValue_dec_36', 'class'],\n",
       "      dtype='object', length=755)"
      ]
     },
     "execution_count": 5,
     "metadata": {},
     "output_type": "execute_result"
    }
   ],
   "source": [
    "df.columns"
   ]
  },
  {
   "cell_type": "markdown",
   "metadata": {},
   "source": [
    "The dataset has 756 instances and 754 attributes (excluding id). Each id consists of 3 values which means three voice records were taken from every person. Let's extract the person based information"
   ]
  },
  {
   "cell_type": "markdown",
   "metadata": {},
   "source": [
    "#### Analysing person based information "
   ]
  },
  {
   "cell_type": "code",
   "execution_count": 6,
   "metadata": {
    "collapsed": false
   },
   "outputs": [],
   "source": [
    "df_id = df.drop_duplicates(subset=['id','gender'],keep='first')"
   ]
  },
  {
   "cell_type": "code",
   "execution_count": 7,
   "metadata": {
    "collapsed": false
   },
   "outputs": [
    {
     "data": {
      "text/plain": [
       "1    188\n",
       "0     64\n",
       "Name: class, dtype: int64"
      ]
     },
     "execution_count": 7,
     "metadata": {},
     "output_type": "execute_result"
    }
   ],
   "source": [
    "df_id['class'].value_counts() ## Here, 1 is patient and 0 is normal people"
   ]
  },
  {
   "cell_type": "code",
   "execution_count": 8,
   "metadata": {
    "collapsed": false
   },
   "outputs": [
    {
     "data": {
      "image/png": "[encoded data removed]",
      "text/plain": [
       "<Figure size 432x288 with 1 Axes>"
      ]
     },
     "metadata": {},
     "output_type": "display_data"
    }
   ],
   "source": [
    "df_id['class'].value_counts().plot.bar()\n",
    "plt.show()"
   ]
  },
  {
   "cell_type": "code",
   "execution_count": 9,
   "metadata": {
    "collapsed": false
   },
   "outputs": [
    {
     "data": {
      "text/plain": [
       "class  gender\n",
       "0      0          41\n",
       "       1          23\n",
       "1      1         107\n",
       "       0          81\n",
       "Name: gender, dtype: int64"
      ]
     },
     "execution_count": 9,
     "metadata": {},
     "output_type": "execute_result"
    }
   ],
   "source": [
    "df_id.groupby('class')['gender'].value_counts()"
   ]
  },
  {
   "cell_type": "code",
   "execution_count": 10,
   "metadata": {
    "collapsed": false
   },
   "outputs": [
    {
     "data": {
      "text/plain": [
       "gender  class\n",
       "0       1         81\n",
       "        0         41\n",
       "1       1        107\n",
       "        0         23\n",
       "Name: class, dtype: int64"
      ]
     },
     "execution_count": 10,
     "metadata": {},
     "output_type": "execute_result"
    }
   ],
   "source": [
    "df_id.groupby('gender')['class'].value_counts()"
   ]
  },
  {
   "cell_type": "markdown",
   "metadata": {},
   "source": [
    "#### 188 Parkinson affected patients and 64 normal people were subjected to test. From affected people 107 were men and 81 were women and from normal people 41 were men and 23 were women"
   ]
  },
  {
   "cell_type": "code",
   "execution_count": 11,
   "metadata": {
    "collapsed": false
   },
   "outputs": [
    {
     "data": {
      "image/png": "[encoded data removed]",
      "text/plain": [
       "<Figure size 432x288 with 1 Axes>"
      ]
     },
     "metadata": {},
     "output_type": "display_data"
    }
   ],
   "source": [
    "df_id.groupby('gender')['class'].value_counts().plot.bar()\n",
    "plt.show()"
   ]
  },
  {
   "cell_type": "code",
   "execution_count": 12,
   "metadata": {
    "collapsed": false
   },
   "outputs": [
    {
     "data": {
      "text/html": [
       "<div>\n",
       "<style>\n",
       "    .dataframe thead tr:only-child th {\n",
       "        text-align: right;\n",
       "    }\n",
       "\n",
       "    .dataframe thead th {\n",
       "        text-align: left;\n",
       "    }\n",
       "\n",
       "    .dataframe tbody tr th {\n",
       "        vertical-align: top;\n",
       "    }\n",
       "</style>\n",
       "<table border=\"1\" class=\"dataframe\">\n",
       "  <thead>\n",
       "    <tr style=\"text-align: right;\">\n",
       "      <th></th>\n",
       "      <th>id</th>\n",
       "      <th>gender</th>\n",
       "      <th>PPE</th>\n",
       "      <th>DFA</th>\n",
       "      <th>RPDE</th>\n",
       "      <th>numPulses</th>\n",
       "      <th>numPeriodsPulses</th>\n",
       "      <th>meanPeriodPulses</th>\n",
       "      <th>stdDevPeriodPulses</th>\n",
       "      <th>locPctJitter</th>\n",
       "      <th>...</th>\n",
       "      <th>tqwt_kurtosisValue_dec_28</th>\n",
       "      <th>tqwt_kurtosisValue_dec_29</th>\n",
       "      <th>tqwt_kurtosisValue_dec_30</th>\n",
       "      <th>tqwt_kurtosisValue_dec_31</th>\n",
       "      <th>tqwt_kurtosisValue_dec_32</th>\n",
       "      <th>tqwt_kurtosisValue_dec_33</th>\n",
       "      <th>tqwt_kurtosisValue_dec_34</th>\n",
       "      <th>tqwt_kurtosisValue_dec_35</th>\n",
       "      <th>tqwt_kurtosisValue_dec_36</th>\n",
       "      <th>class</th>\n",
       "    </tr>\n",
       "  </thead>\n",
       "  <tbody>\n",
       "    <tr>\n",
       "      <th>count</th>\n",
       "      <td>756.000000</td>\n",
       "      <td>756.000000</td>\n",
       "      <td>756.000000</td>\n",
       "      <td>756.000000</td>\n",
       "      <td>756.000000</td>\n",
       "      <td>756.000000</td>\n",
       "      <td>756.000000</td>\n",
       "      <td>756.000000</td>\n",
       "      <td>756.000000</td>\n",
       "      <td>756.000000</td>\n",
       "      <td>...</td>\n",
       "      <td>756.000000</td>\n",
       "      <td>756.000000</td>\n",
       "      <td>756.000000</td>\n",
       "      <td>756.000000</td>\n",
       "      <td>756.000000</td>\n",
       "      <td>756.000000</td>\n",
       "      <td>756.000000</td>\n",
       "      <td>756.000000</td>\n",
       "      <td>756.000000</td>\n",
       "      <td>756.000000</td>\n",
       "    </tr>\n",
       "    <tr>\n",
       "      <th>mean</th>\n",
       "      <td>125.500000</td>\n",
       "      <td>0.515873</td>\n",
       "      <td>0.746284</td>\n",
       "      <td>0.700414</td>\n",
       "      <td>0.489058</td>\n",
       "      <td>323.972222</td>\n",
       "      <td>322.678571</td>\n",
       "      <td>0.006360</td>\n",
       "      <td>0.000383</td>\n",
       "      <td>0.002324</td>\n",
       "      <td>...</td>\n",
       "      <td>26.237251</td>\n",
       "      <td>22.840337</td>\n",
       "      <td>18.587888</td>\n",
       "      <td>13.872018</td>\n",
       "      <td>12.218953</td>\n",
       "      <td>12.375335</td>\n",
       "      <td>14.799230</td>\n",
       "      <td>14.751559</td>\n",
       "      <td>31.481110</td>\n",
       "      <td>0.746032</td>\n",
       "    </tr>\n",
       "    <tr>\n",
       "      <th>std</th>\n",
       "      <td>72.793721</td>\n",
       "      <td>0.500079</td>\n",
       "      <td>0.169294</td>\n",
       "      <td>0.069718</td>\n",
       "      <td>0.137442</td>\n",
       "      <td>99.219059</td>\n",
       "      <td>99.402499</td>\n",
       "      <td>0.001826</td>\n",
       "      <td>0.000728</td>\n",
       "      <td>0.002628</td>\n",
       "      <td>...</td>\n",
       "      <td>42.220693</td>\n",
       "      <td>32.626464</td>\n",
       "      <td>25.537464</td>\n",
       "      <td>20.046029</td>\n",
       "      <td>17.783642</td>\n",
       "      <td>16.341665</td>\n",
       "      <td>15.722502</td>\n",
       "      <td>14.432979</td>\n",
       "      <td>34.230991</td>\n",
       "      <td>0.435568</td>\n",
       "    </tr>\n",
       "    <tr>\n",
       "      <th>min</th>\n",
       "      <td>0.000000</td>\n",
       "      <td>0.000000</td>\n",
       "      <td>0.041551</td>\n",
       "      <td>0.543500</td>\n",
       "      <td>0.154300</td>\n",
       "      <td>2.000000</td>\n",
       "      <td>1.000000</td>\n",
       "      <td>0.002107</td>\n",
       "      <td>0.000011</td>\n",
       "      <td>0.000210</td>\n",
       "      <td>...</td>\n",
       "      <td>1.509800</td>\n",
       "      <td>1.531700</td>\n",
       "      <td>1.582900</td>\n",
       "      <td>1.747200</td>\n",
       "      <td>1.789500</td>\n",
       "      <td>1.628700</td>\n",
       "      <td>1.861700</td>\n",
       "      <td>1.955900</td>\n",
       "      <td>2.364000</td>\n",
       "      <td>0.000000</td>\n",
       "    </tr>\n",
       "    <tr>\n",
       "      <th>25%</th>\n",
       "      <td>62.750000</td>\n",
       "      <td>0.000000</td>\n",
       "      <td>0.762833</td>\n",
       "      <td>0.647053</td>\n",
       "      <td>0.386537</td>\n",
       "      <td>251.000000</td>\n",
       "      <td>250.000000</td>\n",
       "      <td>0.005003</td>\n",
       "      <td>0.000049</td>\n",
       "      <td>0.000970</td>\n",
       "      <td>...</td>\n",
       "      <td>2.408675</td>\n",
       "      <td>3.452800</td>\n",
       "      <td>3.354825</td>\n",
       "      <td>3.077450</td>\n",
       "      <td>2.937025</td>\n",
       "      <td>3.114375</td>\n",
       "      <td>3.665925</td>\n",
       "      <td>3.741275</td>\n",
       "      <td>3.948750</td>\n",
       "      <td>0.000000</td>\n",
       "    </tr>\n",
       "    <tr>\n",
       "      <th>50%</th>\n",
       "      <td>125.500000</td>\n",
       "      <td>1.000000</td>\n",
       "      <td>0.809655</td>\n",
       "      <td>0.700525</td>\n",
       "      <td>0.484355</td>\n",
       "      <td>317.000000</td>\n",
       "      <td>316.000000</td>\n",
       "      <td>0.006048</td>\n",
       "      <td>0.000077</td>\n",
       "      <td>0.001495</td>\n",
       "      <td>...</td>\n",
       "      <td>5.586300</td>\n",
       "      <td>7.062750</td>\n",
       "      <td>6.077400</td>\n",
       "      <td>4.770850</td>\n",
       "      <td>4.300450</td>\n",
       "      <td>4.741450</td>\n",
       "      <td>6.725700</td>\n",
       "      <td>7.334250</td>\n",
       "      <td>10.637250</td>\n",
       "      <td>1.000000</td>\n",
       "    </tr>\n",
       "    <tr>\n",
       "      <th>75%</th>\n",
       "      <td>188.250000</td>\n",
       "      <td>1.000000</td>\n",
       "      <td>0.834315</td>\n",
       "      <td>0.754985</td>\n",
       "      <td>0.586515</td>\n",
       "      <td>384.250000</td>\n",
       "      <td>383.250000</td>\n",
       "      <td>0.007528</td>\n",
       "      <td>0.000171</td>\n",
       "      <td>0.002520</td>\n",
       "      <td>...</td>\n",
       "      <td>28.958075</td>\n",
       "      <td>29.830850</td>\n",
       "      <td>21.944050</td>\n",
       "      <td>13.188000</td>\n",
       "      <td>10.876150</td>\n",
       "      <td>12.201325</td>\n",
       "      <td>21.922050</td>\n",
       "      <td>22.495175</td>\n",
       "      <td>61.125325</td>\n",
       "      <td>1.000000</td>\n",
       "    </tr>\n",
       "    <tr>\n",
       "      <th>max</th>\n",
       "      <td>251.000000</td>\n",
       "      <td>1.000000</td>\n",
       "      <td>0.907660</td>\n",
       "      <td>0.852640</td>\n",
       "      <td>0.871230</td>\n",
       "      <td>907.000000</td>\n",
       "      <td>905.000000</td>\n",
       "      <td>0.012966</td>\n",
       "      <td>0.003483</td>\n",
       "      <td>0.027750</td>\n",
       "      <td>...</td>\n",
       "      <td>239.788800</td>\n",
       "      <td>203.311300</td>\n",
       "      <td>121.542900</td>\n",
       "      <td>102.207000</td>\n",
       "      <td>85.571700</td>\n",
       "      <td>73.532200</td>\n",
       "      <td>62.007300</td>\n",
       "      <td>57.544300</td>\n",
       "      <td>156.423700</td>\n",
       "      <td>1.000000</td>\n",
       "    </tr>\n",
       "  </tbody>\n",
       "</table>\n",
       "<p>8 rows × 755 columns</p>\n",
       "</div>"
      ],
      "text/plain": [
       "               id      gender         PPE         DFA        RPDE   numPulses  \\\n",
       "count  756.000000  756.000000  756.000000  756.000000  756.000000  756.000000   \n",
       "mean   125.500000    0.515873    0.746284    0.700414    0.489058  323.972222   \n",
       "std     72.793721    0.500079    0.169294    0.069718    0.137442   99.219059   \n",
       "min      0.000000    0.000000    0.041551    0.543500    0.154300    2.000000   \n",
       "25%     62.750000    0.000000    0.762833    0.647053    0.386537  251.000000   \n",
       "50%    125.500000    1.000000    0.809655    0.700525    0.484355  317.000000   \n",
       "75%    188.250000    1.000000    0.834315    0.754985    0.586515  384.250000   \n",
       "max    251.000000    1.000000    0.907660    0.852640    0.871230  907.000000   \n",
       "\n",
       "       numPeriodsPulses  meanPeriodPulses  stdDevPeriodPulses  locPctJitter  \\\n",
       "count        756.000000        756.000000          756.000000    756.000000   \n",
       "mean         322.678571          0.006360            0.000383      0.002324   \n",
       "std           99.402499          0.001826            0.000728      0.002628   \n",
       "min            1.000000          0.002107            0.000011      0.000210   \n",
       "25%          250.000000          0.005003            0.000049      0.000970   \n",
       "50%          316.000000          0.006048            0.000077      0.001495   \n",
       "75%          383.250000          0.007528            0.000171      0.002520   \n",
       "max          905.000000          0.012966            0.003483      0.027750   \n",
       "\n",
       "          ...      tqwt_kurtosisValue_dec_28  tqwt_kurtosisValue_dec_29  \\\n",
       "count     ...                     756.000000                 756.000000   \n",
       "mean      ...                      26.237251                  22.840337   \n",
       "std       ...                      42.220693                  32.626464   \n",
       "min       ...                       1.509800                   1.531700   \n",
       "25%       ...                       2.408675                   3.452800   \n",
       "50%       ...                       5.586300                   7.062750   \n",
       "75%       ...                      28.958075                  29.830850   \n",
       "max       ...                     239.788800                 203.311300   \n",
       "\n",
       "       tqwt_kurtosisValue_dec_30  tqwt_kurtosisValue_dec_31  \\\n",
       "count                 756.000000                 756.000000   \n",
       "mean                   18.587888                  13.872018   \n",
       "std                    25.537464                  20.046029   \n",
       "min                     1.582900                   1.747200   \n",
       "25%                     3.354825                   3.077450   \n",
       "50%                     6.077400                   4.770850   \n",
       "75%                    21.944050                  13.188000   \n",
       "max                   121.542900                 102.207000   \n",
       "\n",
       "       tqwt_kurtosisValue_dec_32  tqwt_kurtosisValue_dec_33  \\\n",
       "count                 756.000000                 756.000000   \n",
       "mean                   12.218953                  12.375335   \n",
       "std                    17.783642                  16.341665   \n",
       "min                     1.789500                   1.628700   \n",
       "25%                     2.937025                   3.114375   \n",
       "50%                     4.300450                   4.741450   \n",
       "75%                    10.876150                  12.201325   \n",
       "max                    85.571700                  73.532200   \n",
       "\n",
       "       tqwt_kurtosisValue_dec_34  tqwt_kurtosisValue_dec_35  \\\n",
       "count                 756.000000                 756.000000   \n",
       "mean                   14.799230                  14.751559   \n",
       "std                    15.722502                  14.432979   \n",
       "min                     1.861700                   1.955900   \n",
       "25%                     3.665925                   3.741275   \n",
       "50%                     6.725700                   7.334250   \n",
       "75%                    21.922050                  22.495175   \n",
       "max                    62.007300                  57.544300   \n",
       "\n",
       "       tqwt_kurtosisValue_dec_36       class  \n",
       "count                 756.000000  756.000000  \n",
       "mean                   31.481110    0.746032  \n",
       "std                    34.230991    0.435568  \n",
       "min                     2.364000    0.000000  \n",
       "25%                     3.948750    0.000000  \n",
       "50%                    10.637250    1.000000  \n",
       "75%                    61.125325    1.000000  \n",
       "max                   156.423700    1.000000  \n",
       "\n",
       "[8 rows x 755 columns]"
      ]
     },
     "execution_count": 12,
     "metadata": {},
     "output_type": "execute_result"
    }
   ],
   "source": [
    "df.describe()"
   ]
  },
  {
   "cell_type": "markdown",
   "metadata": {},
   "source": [
    "Let's try to plot basic features and few more features to see it's pattern in the dataset"
   ]
  },
  {
   "cell_type": "markdown",
   "metadata": {},
   "source": [
    "#### Feature Analysis"
   ]
  },
  {
   "cell_type": "code",
   "execution_count": 13,
   "metadata": {
    "collapsed": false
   },
   "outputs": [
    {
     "name": "stderr",
     "output_type": "stream",
     "text": [
      "C:\\Users\\rle0345\\AppData\\Local\\Continuum\\Anaconda3\\envs\\spinningup\\lib\\site-packages\\seaborn\\distributions.py:214: MatplotlibDeprecationWarning: \n",
      "The 'normed' kwarg was deprecated in Matplotlib 2.1 and will be removed in 3.1. Use 'density' instead.\n",
      "  color=hist_color, **hist_kws)\n"
     ]
    },
    {
     "data": {
      "image/png": "[encoded data removed]",
      "text/plain": [
       "<Figure size 432x288 with 1 Axes>"
      ]
     },
     "metadata": {},
     "output_type": "display_data"
    },
    {
     "data": {
      "image/png": "[encoded data removed]",
      "text/plain": [
       "<Figure size 432x288 with 1 Axes>"
      ]
     },
     "metadata": {},
     "output_type": "display_data"
    },
    {
     "data": {
      "image/png": "[encoded data removed]",
      "text/plain": [
       "<Figure size 432x288 with 1 Axes>"
      ]
     },
     "metadata": {},
     "output_type": "display_data"
    },
    {
     "data": {
      "image/png": "[encoded data removed]",
      "text/plain": [
       "<Figure size 432x288 with 1 Axes>"
      ]
     },
     "metadata": {},
     "output_type": "display_data"
    },
    {
     "data": {
      "image/png": "[encoded data removed]",
      "text/plain": [
       "<Figure size 432x288 with 1 Axes>"
      ]
     },
     "metadata": {},
     "output_type": "display_data"
    },
    {
     "data": {
      "image/png": "[encoded data removed]",
      "text/plain": [
       "<Figure size 432x288 with 1 Axes>"
      ]
     },
     "metadata": {},
     "output_type": "display_data"
    },
    {
     "data": {
      "image/png": "[encoded data removed]",
      "text/plain": [
       "<Figure size 432x288 with 1 Axes>"
      ]
     },
     "metadata": {},
     "output_type": "display_data"
    },
    {
     "data": {
      "image/png": "[encoded data removed]",
      "text/plain": [
       "<Figure size 432x288 with 1 Axes>"
      ]
     },
     "metadata": {},
     "output_type": "display_data"
    },
    {
     "data": {
      "image/png": "[encoded data removed]",
      "text/plain": [
       "<Figure size 432x288 with 1 Axes>"
      ]
     },
     "metadata": {},
     "output_type": "display_data"
    }
   ],
   "source": [
    "columns_to_plot = ['PPE','DFA','RPDE','numPulses', 'f1', 'f2', 'VFER_NSR_TKEO', 'GNE_NSR_TKEO','class']\n",
    "for each in columns_to_plot:\n",
    "    sns.distplot(df[each])\n",
    "    plt.show()"
   ]
  },
  {
   "cell_type": "markdown",
   "metadata": {},
   "source": [
    "From above plots, out of three nonlinear dynamical systems theory values (RPDE, DFA and PPA), *RPDE (Recurrence Pitch Density Entropy)* is following normal distribution (approximately). *Detrended Fluctuation Analysis (DFA)* values are available between 0.55 to 0.85. Since these two values are used to identify the general voice disorders, we can use these values to infer the problems. \n",
    "\n",
    "Reference: \n",
    "Little M. A. (2007). Biomechanically Informed Nonlinear Speech Signal Processing. D.Phil. Thesis, University of Oxford, Oxford"
   ]
  },
  {
   "cell_type": "code",
   "execution_count": 15,
   "metadata": {
    "collapsed": false
   },
   "outputs": [
    {
     "name": "stderr",
     "output_type": "stream",
     "text": [
      "C:\\Users\\rle0345\\AppData\\Local\\Continuum\\Anaconda3\\envs\\spinningup\\lib\\site-packages\\numpy\\core\\fromnumeric.py:57: FutureWarning: reshape is deprecated and will raise in a subsequent release. Please use .values.reshape(...) instead\n",
      "  return getattr(obj, method)(*args, **kwds)\n"
     ]
    },
    {
     "data": {
      "image/png": "[encoded data removed]",
      "text/plain": [
       "<Figure size 432x288 with 1 Axes>"
      ]
     },
     "metadata": {},
     "output_type": "display_data"
    },
    {
     "name": "stderr",
     "output_type": "stream",
     "text": [
      "C:\\Users\\rle0345\\AppData\\Local\\Continuum\\Anaconda3\\envs\\spinningup\\lib\\site-packages\\numpy\\core\\fromnumeric.py:57: FutureWarning: reshape is deprecated and will raise in a subsequent release. Please use .values.reshape(...) instead\n",
      "  return getattr(obj, method)(*args, **kwds)\n"
     ]
    },
    {
     "data": {
      "image/png": "[encoded data removed]",
      "text/plain": [
       "<Figure size 432x288 with 1 Axes>"
      ]
     },
     "metadata": {},
     "output_type": "display_data"
    },
    {
     "name": "stderr",
     "output_type": "stream",
     "text": [
      "C:\\Users\\rle0345\\AppData\\Local\\Continuum\\Anaconda3\\envs\\spinningup\\lib\\site-packages\\numpy\\core\\fromnumeric.py:57: FutureWarning: reshape is deprecated and will raise in a subsequent release. Please use .values.reshape(...) instead\n",
      "  return getattr(obj, method)(*args, **kwds)\n"
     ]
    },
    {
     "data": {
      "image/png": "[encoded data removed]",
      "text/plain": [
       "<Figure size 432x288 with 1 Axes>"
      ]
     },
     "metadata": {},
     "output_type": "display_data"
    }
   ],
   "source": [
    "columns_box_plot = ['PPE','DFA','RPDE']\n",
    "for each in columns_box_plot:\n",
    "    df.boxplot(column=each, by='class')\n",
    "    plt.show()"
   ]
  },
  {
   "cell_type": "markdown",
   "metadata": {},
   "source": [
    "PPE has no difference for normal people and patients. But, RPDE and DFA has higher values for patients compared to normal people. So, these two can be used as predictors while building the model."
   ]
  },
  {
   "cell_type": "markdown",
   "metadata": {},
   "source": [
    "Few other features are following normal distribution. For example, numPulses, f1, f2, VFER_NSR_TKEO, GNE_NSR_TKEO, etc., These features could help in providing better results for models such as logistic regression. "
   ]
  },
  {
   "cell_type": "markdown",
   "metadata": {
    "collapsed": true
   },
   "source": [
    "It is also notable that many features are derived from other features. E.g., det_entropy_log_3_coef, det_entropy_log_4_coef,..., det_entropy_log_10_coef. These might result in multicolinearity. i.e., the higher correlation between independet variables. We might have to delete these features. This needs to be taken care while devising a ML model."
   ]
  },
  {
   "cell_type": "code",
   "execution_count": 15,
   "metadata": {
    "collapsed": false
   },
   "outputs": [
    {
     "data": {
      "image/png": "[encoded data removed]",
      "text/plain": [
       "<Figure size 648x432 with 2 Axes>"
      ]
     },
     "metadata": {},
     "output_type": "display_data"
    }
   ],
   "source": [
    "matrix = df[['PPE','DFA','RPDE','numPulses', 'f1', 'f2', 'VFER_NSR_TKEO', 'GNE_NSR_TKEO','class']].corr()\n",
    "f, ax = plt.subplots(figsize=(9, 6))\n",
    "sns.heatmap(matrix, vmax=.8, square=True, cmap=\"BuPu\")\n",
    "plt.show()"
   ]
  },
  {
   "cell_type": "markdown",
   "metadata": {},
   "source": [
    "Let's train and predict the dataset using Logistic Regression ML model."
   ]
  },
  {
   "cell_type": "code",
   "execution_count": 16,
   "metadata": {
    "collapsed": true
   },
   "outputs": [],
   "source": [
    "from sklearn.model_selection import train_test_split\n",
    "from sklearn.linear_model import LogisticRegression\n",
    "from sklearn.model_selection import KFold\n",
    "#from sklearn.metrics import accuracy_score\n",
    "from sklearn.model_selection import cross_val_score"
   ]
  },
  {
   "cell_type": "code",
   "execution_count": 17,
   "metadata": {
    "collapsed": true
   },
   "outputs": [],
   "source": [
    "## Since we have id thrice in the column, we need to split based on the id\n",
    "#X = df[['DFA','RPDE']]\n",
    "#y = df['class']"
   ]
  },
  {
   "cell_type": "code",
   "execution_count": 18,
   "metadata": {
    "collapsed": false
   },
   "outputs": [],
   "source": [
    "import random\n",
    "unique_indices = df['id'].unique()\n",
    "random.shuffle(unique_indices)\n",
    "no_of_unique_records = len(df['id'].unique())\n",
    "train_size = round(no_of_unique_records * 0.7)\n",
    "train_elements = unique_indices[:train_size]\n",
    "test_elements = unique_indices[train_size:]\n",
    "#test_elements\n",
    "#train_elements"
   ]
  },
  {
   "cell_type": "code",
   "execution_count": 19,
   "metadata": {
    "collapsed": false
   },
   "outputs": [],
   "source": [
    "#x_train, x_cv, y_train, y_cv = train_test_split(X,y, test_size =0.3)\n",
    "train_vals = df[df.apply(lambda x: x['id'] in train_elements.tolist(),axis=1)]\n",
    "test_vals = df[df.apply(lambda x: x['id'] in test_elements.tolist(),axis=1)]\n",
    "x_train = train_vals[['DFA','RPDE']]\n",
    "y_train = train_vals['class']\n",
    "x_cv = test_vals[['DFA','RPDE']]\n",
    "y_cv = test_vals['class']"
   ]
  },
  {
   "cell_type": "code",
   "execution_count": 20,
   "metadata": {
    "collapsed": false
   },
   "outputs": [
    {
     "name": "stdout",
     "output_type": "stream",
     "text": [
      "Logistic Regression Accuracy: 73.82% (10.41%)\n"
     ]
    },
    {
     "name": "stderr",
     "output_type": "stream",
     "text": [
      "C:\\Users\\rle0345\\AppData\\Local\\Continuum\\Anaconda3\\envs\\spinningup\\lib\\site-packages\\sklearn\\linear_model\\logistic.py:433: FutureWarning: Default solver will be changed to 'lbfgs' in 0.22. Specify a solver to silence this warning.\n",
      "  FutureWarning)\n",
      "C:\\Users\\rle0345\\AppData\\Local\\Continuum\\Anaconda3\\envs\\spinningup\\lib\\site-packages\\sklearn\\linear_model\\logistic.py:433: FutureWarning: Default solver will be changed to 'lbfgs' in 0.22. Specify a solver to silence this warning.\n",
      "  FutureWarning)\n",
      "C:\\Users\\rle0345\\AppData\\Local\\Continuum\\Anaconda3\\envs\\spinningup\\lib\\site-packages\\sklearn\\linear_model\\logistic.py:433: FutureWarning: Default solver will be changed to 'lbfgs' in 0.22. Specify a solver to silence this warning.\n",
      "  FutureWarning)\n",
      "C:\\Users\\rle0345\\AppData\\Local\\Continuum\\Anaconda3\\envs\\spinningup\\lib\\site-packages\\sklearn\\linear_model\\logistic.py:433: FutureWarning: Default solver will be changed to 'lbfgs' in 0.22. Specify a solver to silence this warning.\n",
      "  FutureWarning)\n",
      "C:\\Users\\rle0345\\AppData\\Local\\Continuum\\Anaconda3\\envs\\spinningup\\lib\\site-packages\\sklearn\\linear_model\\logistic.py:433: FutureWarning: Default solver will be changed to 'lbfgs' in 0.22. Specify a solver to silence this warning.\n",
      "  FutureWarning)\n",
      "C:\\Users\\rle0345\\AppData\\Local\\Continuum\\Anaconda3\\envs\\spinningup\\lib\\site-packages\\sklearn\\linear_model\\logistic.py:433: FutureWarning: Default solver will be changed to 'lbfgs' in 0.22. Specify a solver to silence this warning.\n",
      "  FutureWarning)\n",
      "C:\\Users\\rle0345\\AppData\\Local\\Continuum\\Anaconda3\\envs\\spinningup\\lib\\site-packages\\sklearn\\linear_model\\logistic.py:433: FutureWarning: Default solver will be changed to 'lbfgs' in 0.22. Specify a solver to silence this warning.\n",
      "  FutureWarning)\n",
      "C:\\Users\\rle0345\\AppData\\Local\\Continuum\\Anaconda3\\envs\\spinningup\\lib\\site-packages\\sklearn\\linear_model\\logistic.py:433: FutureWarning: Default solver will be changed to 'lbfgs' in 0.22. Specify a solver to silence this warning.\n",
      "  FutureWarning)\n",
      "C:\\Users\\rle0345\\AppData\\Local\\Continuum\\Anaconda3\\envs\\spinningup\\lib\\site-packages\\sklearn\\linear_model\\logistic.py:433: FutureWarning: Default solver will be changed to 'lbfgs' in 0.22. Specify a solver to silence this warning.\n",
      "  FutureWarning)\n",
      "C:\\Users\\rle0345\\AppData\\Local\\Continuum\\Anaconda3\\envs\\spinningup\\lib\\site-packages\\sklearn\\linear_model\\logistic.py:433: FutureWarning: Default solver will be changed to 'lbfgs' in 0.22. Specify a solver to silence this warning.\n",
      "  FutureWarning)\n",
      "C:\\Users\\rle0345\\AppData\\Local\\Continuum\\Anaconda3\\envs\\spinningup\\lib\\site-packages\\sklearn\\linear_model\\logistic.py:433: FutureWarning: Default solver will be changed to 'lbfgs' in 0.22. Specify a solver to silence this warning.\n",
      "  FutureWarning)\n"
     ]
    }
   ],
   "source": [
    "my_logit_model = LogisticRegression()\n",
    "my_logit_model.fit(x_train, y_train)\n",
    "\n",
    "kfold = KFold(n_splits=10, random_state=7)\n",
    "results = cross_val_score(my_logit_model, x_train, y_train, cv=kfold)\n",
    "print(\"Logistic Regression Accuracy: %.2f%% (%.2f%%)\" % (results.mean()*100, results.std()*100))"
   ]
  },
  {
   "cell_type": "code",
   "execution_count": 21,
   "metadata": {
    "collapsed": false
   },
   "outputs": [],
   "source": [
    "from sklearn.metrics import roc_curve, auc\n",
    "y_score = my_logit_model.decision_function(x_cv)\n",
    "#roc_curve(y_cv, y_score)\n",
    "\n",
    "# Compute ROC curve and ROC area for each class\n",
    "fpr = dict()\n",
    "tpr = dict()\n",
    "roc_auc = dict()\n",
    "\n",
    "fpr[0], tpr[0], _ = roc_curve(y_cv, y_score)\n",
    "roc_auc[0] = auc(fpr[0], tpr[0])\n",
    "\n",
    "# Compute micro-average ROC curve and ROC area\n",
    "fpr[\"micro\"], tpr[\"micro\"], _ = roc_curve(y_cv.ravel(), y_score.ravel())\n",
    "roc_auc[\"micro\"] = auc(fpr[\"micro\"], tpr[\"micro\"])"
   ]
  },
  {
   "cell_type": "code",
   "execution_count": 22,
   "metadata": {
    "collapsed": false
   },
   "outputs": [
    {
     "data": {
      "image/png": "[encoded data removed]",
      "text/plain": [
       "<Figure size 432x288 with 1 Axes>"
      ]
     },
     "metadata": {},
     "output_type": "display_data"
    }
   ],
   "source": [
    "plt.figure()\n",
    "lw = 2\n",
    "plt.plot(fpr[0], tpr[0], color='darkorange',\n",
    "         lw=lw, label='ROC curve (area = %0.2f)' % roc_auc[0])\n",
    "plt.plot([0, 1], [0, 1], color='navy', lw=lw, linestyle='--')\n",
    "plt.xlim([0.0, 1.0])\n",
    "plt.ylim([0.0, 1.05])\n",
    "plt.xlabel('False Positive Rate')\n",
    "plt.ylabel('True Positive Rate')\n",
    "plt.title('Receiver operating characteristic example')\n",
    "plt.legend(loc=\"lower right\")\n",
    "plt.show()"
   ]
  },
  {
   "cell_type": "markdown",
   "metadata": {},
   "source": [
    "Curve Area is 71%. It implies DFA and RPDE are enough to explain the results. Addition of PPE with this has reduced the cross validation score and ROC Area which implies it is not clearly differentiating the disease from normal people (as we already claimed)."
   ]
  },
  {
   "cell_type": "code",
   "execution_count": null,
   "metadata": {
    "collapsed": true
   },
   "outputs": [],
   "source": []
  }
 ],
 "metadata": {
  "anaconda-cloud": {},
  "kernelspec": {
   "display_name": "Python [spinningup]",
   "language": "python",
   "name": "Python [spinningup]"
  },
  "language_info": {
   "codemirror_mode": {
    "name": "ipython",
    "version": 3
   },
   "file_extension": ".py",
   "mimetype": "text/x-python",
   "name": "python",
   "nbconvert_exporter": "python",
   "pygments_lexer": "ipython3",
   "version": "3.6.9"
  }
 },
 "nbformat": 4,
 "nbformat_minor": 0
}
